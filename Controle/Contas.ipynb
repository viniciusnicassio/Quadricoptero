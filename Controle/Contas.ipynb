{
 "cells": [
  {
   "cell_type": "code",
   "execution_count": 165,
   "metadata": {
    "collapsed": false
   },
   "outputs": [
    {
     "name": "stdout",
     "output_type": "stream",
     "text": [
      "Populating the interactive namespace from numpy and matplotlib\n"
     ]
    }
   ],
   "source": [
    "%pylab inline\n",
    "import pandas as pd #Manipulação de arquivos"
   ]
  },
  {
   "cell_type": "code",
   "execution_count": 152,
   "metadata": {
    "collapsed": false
   },
   "outputs": [
    {
     "data": {
      "text/html": [
       "<div style=\"max-height:1000px;max-width:1500px;overflow:auto;\">\n",
       "<table border=\"1\" class=\"dataframe\">\n",
       "  <thead>\n",
       "    <tr style=\"text-align: right;\">\n",
       "      <th></th>\n",
       "      <th>Dif PWM</th>\n",
       "    </tr>\n",
       "  </thead>\n",
       "  <tbody>\n",
       "    <tr>\n",
       "      <th>Motor 1</th>\n",
       "      <td> 0</td>\n",
       "    </tr>\n",
       "    <tr>\n",
       "      <th>Motor 2</th>\n",
       "      <td> 0</td>\n",
       "    </tr>\n",
       "    <tr>\n",
       "      <th>Motor 3</th>\n",
       "      <td> 0</td>\n",
       "    </tr>\n",
       "    <tr>\n",
       "      <th>Motor 4</th>\n",
       "      <td> 0</td>\n",
       "    </tr>\n",
       "  </tbody>\n",
       "</table>\n",
       "</div>"
      ],
      "text/plain": [
       "         Dif PWM\n",
       "Motor 1        0\n",
       "Motor 2        0\n",
       "Motor 3        0\n",
       "Motor 4        0"
      ]
     },
     "execution_count": 152,
     "metadata": {},
     "output_type": "execute_result"
    }
   ],
   "source": [
    "a=0\n",
    "b=0\n",
    "c=0\n",
    "d=0\n",
    "motores = pd.DataFrame([a,b,c,d],columns=['Dif PWM'],index=['Motor 1','Motor 2','Motor 3','Motor 4'],dtype=int)\n",
    "motores"
   ]
  },
  {
   "cell_type": "code",
   "execution_count": 3,
   "metadata": {
    "collapsed": false
   },
   "outputs": [],
   "source": [
    "motores.to_csv('./data/Dif_motores.txt', sep='\\t')"
   ]
  },
  {
   "cell_type": "code",
   "execution_count": 161,
   "metadata": {
    "collapsed": false
   },
   "outputs": [
    {
     "data": {
      "text/html": [
       "<div style=\"max-height:1000px;max-width:1500px;overflow:auto;\">\n",
       "<table border=\"1\" class=\"dataframe\">\n",
       "  <thead>\n",
       "    <tr style=\"text-align: right;\">\n",
       "      <th></th>\n",
       "      <th>Dif PWM</th>\n",
       "    </tr>\n",
       "  </thead>\n",
       "  <tbody>\n",
       "    <tr>\n",
       "      <th>Motor 1</th>\n",
       "      <td> 0</td>\n",
       "    </tr>\n",
       "    <tr>\n",
       "      <th>Motor 2</th>\n",
       "      <td> 2</td>\n",
       "    </tr>\n",
       "    <tr>\n",
       "      <th>Motor 3</th>\n",
       "      <td> 0</td>\n",
       "    </tr>\n",
       "    <tr>\n",
       "      <th>Motor 4</th>\n",
       "      <td>-2</td>\n",
       "    </tr>\n",
       "  </tbody>\n",
       "</table>\n",
       "</div>"
      ],
      "text/plain": [
       "         Dif PWM\n",
       "Motor 1        0\n",
       "Motor 2        2\n",
       "Motor 3        0\n",
       "Motor 4       -2"
      ]
     },
     "execution_count": 161,
     "metadata": {},
     "output_type": "execute_result"
    }
   ],
   "source": [
    "motores"
   ]
  },
  {
   "cell_type": "code",
   "execution_count": 103,
   "metadata": {
    "collapsed": false
   },
   "outputs": [],
   "source": [
    "#Constantes\n",
    "\n",
    "min_PWM=1062 #Valor minimo para motores girar\n",
    "max_PWM=2399 #Valor maximo para motores girar"
   ]
  },
  {
   "cell_type": "code",
   "execution_count": 123,
   "metadata": {
    "collapsed": false
   },
   "outputs": [],
   "source": [
    "Potencia=1062\n",
    "cor_x=10\n",
    "cor_y=0\n",
    "giro=0\n"
   ]
  },
  {
   "cell_type": "code",
   "execution_count": 174,
   "metadata": {
    "collapsed": false
   },
   "outputs": [],
   "source": [
    "def motorMovimento(Potencia, cor_x, cor_y, giro):\n",
    "    if Potencia>=min_PWM:\n",
    "        offset_motores=matrix([\n",
    "        [motores['Dif PWM']['Motor 1']],\n",
    "        [motores['Dif PWM']['Motor 2']],\n",
    "        [motores['Dif PWM']['Motor 3']],\n",
    "        [motores['Dif PWM']['Motor 4']],\n",
    "        ])\n",
    "        Potencia_motores=Potencia+offset_motores\n",
    "        #Corringindo em X\n",
    "        Potencia_motores=correcaoX(Potencia_motores,cor_x)\n",
    "        #Corringindo em y\n",
    "        Potencia_motores=correcaoY(Potencia_motores,cor_y)\n",
    "        #Corringindo em giro\n",
    "        Potencia_motores=correcaoGiro(Potencia_motores,giro)\n",
    "    elif Potencia==0:\n",
    "        Potencia_motores=matrix([\n",
    "        [0],\n",
    "        [0],\n",
    "        [0],\n",
    "        [0],\n",
    "        ])\n",
    "    else:\n",
    "        Potencia_motores=matrix([\n",
    "        [500],\n",
    "        [500],\n",
    "        [500],\n",
    "        [500],\n",
    "        ])\n",
    "    \n",
    "    return(Potencia_motores)\n",
    "\n",
    "def motorParado(Potencia, cor_x, cor_y, giro):\n",
    "    if Potencia>=min_PWM:\n",
    "        motores['Dif PWM']['Motor 1'] += -cor_x +cor_y -giro\n",
    "        motores['Dif PWM']['Motor 2'] += +cor_x +cor_y +giro\n",
    "        motores['Dif PWM']['Motor 3'] += +cor_x -cor_y -giro\n",
    "        motores['Dif PWM']['Motor 4'] += -cor_x -cor_y +giro\n",
    "        offset_motores=matrix([\n",
    "        [motores['Dif PWM']['Motor 1']],\n",
    "        [motores['Dif PWM']['Motor 2']],\n",
    "        [motores['Dif PWM']['Motor 3']],\n",
    "        [motores['Dif PWM']['Motor 4']],\n",
    "        ])\n",
    "        Potencia_motores=Potencia+offset_motores\n",
    "        #Corringindo valores\n",
    "        Potencia_motores=correcaoX(Potencia_motores,0)\n",
    "    elif Potencia==0:\n",
    "        Potencia_motores=matrix([\n",
    "        [0],\n",
    "        [0],\n",
    "        [0],\n",
    "        [0],\n",
    "        ])\n",
    "    else:\n",
    "        Potencia_motores=matrix([\n",
    "        [500],\n",
    "        [500],\n",
    "        [500],\n",
    "        [500],\n",
    "        ])\n",
    "    \n",
    "    return(Potencia_motores)"
   ]
  },
  {
   "cell_type": "code",
   "execution_count": 175,
   "metadata": {
    "collapsed": false
   },
   "outputs": [],
   "source": [
    "def correcaoX(Potencia_motores,cor_x):\n",
    "    Potencia_motores += matrix([\n",
    "        [-cor_x],\n",
    "        [+cor_x],\n",
    "        [+cor_x],\n",
    "        [-cor_x],\n",
    "    ])\n",
    "    if (min(Potencia_motores)<min_PWM):\n",
    "        print(str(min_PWM-min(Potencia_motores))+\" abaixo em x\")\n",
    "        Potencia_motores += min_PWM-min(Potencia_motores)\n",
    "    if (max(Potencia_motores)>max_PWM):\n",
    "        print(str(max(Potencia_motores)-max_PWM)+\" a cima em x\")\n",
    "        Potencia_motores -= max(Potencia_motores)-max_PWM\n",
    "    return(Potencia_motores)\n",
    "\n",
    "def correcaoY(Potencia_motores,cor_y):\n",
    "    Potencia_motores += matrix([\n",
    "        [+cor_y],\n",
    "        [+cor_y],\n",
    "        [-cor_y],\n",
    "        [-cor_y],\n",
    "    ])\n",
    "    if (min(Potencia_motores)<min_PWM):\n",
    "        print(str(min_PWM-min(Potencia_motores))+\" abaixo em y\")\n",
    "        Potencia_motores += min_PWM-min(Potencia_motores)\n",
    "    if (max(Potencia_motores)>max_PWM):\n",
    "        print(str(max(Potencia_motores)-max_PWM)+\" a cima em y\")\n",
    "        Potencia_motores -= max(Potencia_motores)-max_PWM\n",
    "    return(Potencia_motores)\n",
    "\n",
    "def correcaoGiro(Potencia_motores,giro):\n",
    "    Potencia_motores += matrix([\n",
    "        [-giro],\n",
    "        [+giro],\n",
    "        [-giro],\n",
    "        [+giro],\n",
    "    ])\n",
    "    if (min(Potencia_motores)<min_PWM):\n",
    "        print(str(min_PWM-min(Potencia_motores))+\" abaixo em giro\")\n",
    "        Potencia_motores += min_PWM-min(Potencia_motores)\n",
    "    if (max(Potencia_motores)>max_PWM):\n",
    "        print(str(max(Potencia_motores)-max_PWM)+\" a cima em abaixo em giro\")\n",
    "        Potencia_motores -= max(Potencia_motores)-max_PWM\n",
    "    return(Potencia_motores)"
   ]
  },
  {
   "cell_type": "code",
   "execution_count": 185,
   "metadata": {
    "collapsed": true
   },
   "outputs": [],
   "source": [
    "def aumentarPotencia(Potencia,passo):\n",
    "    Potencia+=passo\n",
    "    if Potencia>max_PWM:\n",
    "        Potencia=max_PWM\n",
    "    if Potencia<min_PWM:\n",
    "        Potencia=min_PWM\n",
    "    return (Potencia)\n",
    "\n",
    "def diminuirPotencia(Potencia,passo):\n",
    "    Potencia-=passo\n",
    "    if Potencia>max_PWM:\n",
    "        Potencia=max_PWM\n",
    "    if Potencia<min_PWM:\n",
    "        Potencia=min_PWM\n",
    "    return (Potencia)\n",
    "\n",
    "def parar():\n",
    "    return (500)\n",
    "\n",
    "def desligar():\n",
    "    return (0)"
   ]
  },
  {
   "cell_type": "code",
   "execution_count": 192,
   "metadata": {
    "collapsed": false
   },
   "outputs": [
    {
     "name": "stdout",
     "output_type": "stream",
     "text": [
      "Calibração\n",
      "\n",
      "Kp atual: 0.1\n",
      "Ki atual: 0.0\n",
      "Kd atual: 0.0\n",
      "w -->\tSubir\n",
      "s -->\tDescer\n",
      "d -->\tDesligar\n",
      "p -->\tParar\n",
      "o -->\tAjustar passo, passo atual: 1\n",
      "k -->\tAjustar ganhos\n",
      "b -->   Sair\n",
      "\n",
      "Digite a função desejada: k\n",
      "p -->\tAlterar ganho proporcional\n",
      "i -->\tAlterar ganho integral\n",
      "d -->\tAlterar ganho derivativo\n",
      "\n",
      "Qual ganho deseja alterar: p\n",
      "Digite o novo Kp: 1\n",
      "Calibração\n",
      "\n",
      "Kp atual: 1\n",
      "Ki atual: 0.0\n",
      "Kd atual: 0.0\n",
      "w -->\tSubir\n",
      "s -->\tDescer\n",
      "d -->\tDesligar\n",
      "p -->\tParar\n",
      "o -->\tAjustar passo, passo atual: 1\n",
      "k -->\tAjustar ganhos\n",
      "b -->   Sair\n",
      "\n",
      "Digite a função desejada: k\n",
      "p -->\tAlterar ganho proporcional\n",
      "i -->\tAlterar ganho integral\n",
      "d -->\tAlterar ganho derivativo\n",
      "\n",
      "Qual ganho deseja alterar: i\n",
      "Digite o novo Ki: 0.5\n",
      "Calibração\n",
      "\n",
      "Kp atual: 1\n",
      "Ki atual: 0.5\n",
      "Kd atual: 0.0\n",
      "w -->\tSubir\n",
      "s -->\tDescer\n",
      "d -->\tDesligar\n",
      "p -->\tParar\n",
      "o -->\tAjustar passo, passo atual: 1\n",
      "k -->\tAjustar ganhos\n",
      "b -->   Sair\n",
      "\n",
      "Digite a função desejada: k\n",
      "p -->\tAlterar ganho proporcional\n",
      "i -->\tAlterar ganho integral\n",
      "d -->\tAlterar ganho derivativo\n",
      "\n",
      "Qual ganho deseja alterar: d\n",
      "Digite o novo Kd: 0.2\n"
     ]
    },
    {
     "ename": "KeyboardInterrupt",
     "evalue": "",
     "output_type": "error",
     "traceback": [
      "\u001b[1;31m---------------------------------------------------------------------------\u001b[0m",
      "\u001b[1;31mKeyboardInterrupt\u001b[0m                         Traceback (most recent call last)",
      "\u001b[1;32m<ipython-input-192-f6ebd7cd1ea5>\u001b[0m in \u001b[0;36m<module>\u001b[1;34m()\u001b[0m\n\u001b[0;32m     10\u001b[0m     \u001b[1;31m#print\u001b[0m\u001b[1;33m\u001b[0m\u001b[1;33m\u001b[0m\u001b[0m\n\u001b[0;32m     11\u001b[0m     \u001b[1;31m#conf=getch.getche()\u001b[0m\u001b[1;33m\u001b[0m\u001b[1;33m\u001b[0m\u001b[0m\n\u001b[1;32m---> 12\u001b[1;33m     \u001b[0mconf\u001b[0m\u001b[1;33m=\u001b[0m\u001b[0mraw_input\u001b[0m\u001b[1;33m(\u001b[0m\u001b[1;34m\"Calibração\\n\\nKp atual: \"\u001b[0m\u001b[1;33m+\u001b[0m\u001b[0mstr\u001b[0m\u001b[1;33m(\u001b[0m\u001b[0mkp\u001b[0m\u001b[1;33m)\u001b[0m\u001b[1;33m+\u001b[0m\u001b[1;34m\"\\nKi atual: \"\u001b[0m\u001b[1;33m+\u001b[0m\u001b[0mstr\u001b[0m\u001b[1;33m(\u001b[0m\u001b[0mki\u001b[0m\u001b[1;33m)\u001b[0m\u001b[1;33m+\u001b[0m\u001b[1;34m\"\\nKd atual: \"\u001b[0m\u001b[1;33m+\u001b[0m\u001b[0mstr\u001b[0m\u001b[1;33m(\u001b[0m\u001b[0mkd\u001b[0m\u001b[1;33m)\u001b[0m\u001b[1;33m+\u001b[0m\u001b[1;34m\"\\nw -->\\tSubir\\ns -->\\tDescer\\nd -->\\tDesligar\\np -->\\tParar\\no -->\\tAjustar passo, passo atual: \"\u001b[0m\u001b[1;33m+\u001b[0m\u001b[0mstr\u001b[0m\u001b[1;33m(\u001b[0m\u001b[0mpasso\u001b[0m\u001b[1;33m)\u001b[0m\u001b[1;33m+\u001b[0m\u001b[1;34m\"\\nk -->\\tAjustar ganhos\\nb -->   Sair\\n\\nDigite a função desejada: \"\u001b[0m\u001b[1;33m)\u001b[0m\u001b[1;33m\u001b[0m\u001b[0m\n\u001b[0m\u001b[0;32m     13\u001b[0m     \u001b[1;32mif\u001b[0m \u001b[0mconf\u001b[0m\u001b[1;33m==\u001b[0m\u001b[1;34m\"w\"\u001b[0m\u001b[1;33m:\u001b[0m\u001b[1;33m\u001b[0m\u001b[0m\n\u001b[0;32m     14\u001b[0m         \u001b[0mPotencia\u001b[0m\u001b[1;33m=\u001b[0m\u001b[0maumentarPotencia\u001b[0m\u001b[1;33m(\u001b[0m\u001b[0mPotencia\u001b[0m\u001b[1;33m,\u001b[0m\u001b[0mpasso\u001b[0m\u001b[1;33m)\u001b[0m\u001b[1;33m\u001b[0m\u001b[0m\n",
      "\u001b[1;32m/usr/local/lib/python2.7/dist-packages/ipykernel/kernelbase.pyc\u001b[0m in \u001b[0;36mraw_input\u001b[1;34m(self, prompt)\u001b[0m\n\u001b[0;32m    649\u001b[0m             \u001b[0mself\u001b[0m\u001b[1;33m.\u001b[0m\u001b[0m_parent_ident\u001b[0m\u001b[1;33m,\u001b[0m\u001b[1;33m\u001b[0m\u001b[0m\n\u001b[0;32m    650\u001b[0m             \u001b[0mself\u001b[0m\u001b[1;33m.\u001b[0m\u001b[0m_parent_header\u001b[0m\u001b[1;33m,\u001b[0m\u001b[1;33m\u001b[0m\u001b[0m\n\u001b[1;32m--> 651\u001b[1;33m             \u001b[0mpassword\u001b[0m\u001b[1;33m=\u001b[0m\u001b[0mFalse\u001b[0m\u001b[1;33m,\u001b[0m\u001b[1;33m\u001b[0m\u001b[0m\n\u001b[0m\u001b[0;32m    652\u001b[0m         )\n\u001b[0;32m    653\u001b[0m \u001b[1;33m\u001b[0m\u001b[0m\n",
      "\u001b[1;32m/usr/local/lib/python2.7/dist-packages/ipykernel/kernelbase.pyc\u001b[0m in \u001b[0;36m_input_request\u001b[1;34m(self, prompt, ident, parent, password)\u001b[0m\n\u001b[0;32m    679\u001b[0m             \u001b[1;32mexcept\u001b[0m \u001b[0mKeyboardInterrupt\u001b[0m\u001b[1;33m:\u001b[0m\u001b[1;33m\u001b[0m\u001b[0m\n\u001b[0;32m    680\u001b[0m                 \u001b[1;31m# re-raise KeyboardInterrupt, to truncate traceback\u001b[0m\u001b[1;33m\u001b[0m\u001b[1;33m\u001b[0m\u001b[0m\n\u001b[1;32m--> 681\u001b[1;33m                 \u001b[1;32mraise\u001b[0m \u001b[0mKeyboardInterrupt\u001b[0m\u001b[1;33m\u001b[0m\u001b[0m\n\u001b[0m\u001b[0;32m    682\u001b[0m             \u001b[1;32melse\u001b[0m\u001b[1;33m:\u001b[0m\u001b[1;33m\u001b[0m\u001b[0m\n\u001b[0;32m    683\u001b[0m                 \u001b[1;32mbreak\u001b[0m\u001b[1;33m\u001b[0m\u001b[0m\n",
      "\u001b[1;31mKeyboardInterrupt\u001b[0m: "
     ]
    }
   ],
   "source": [
    "#Função de Calibração\n",
    "Potencia=0\n",
    "passo=1\n",
    "kp=0.1\n",
    "ki=0.0\n",
    "kd=0.0\n",
    "conf=\"a\"\n",
    "while conf!=\"b\" and conf!=\"B\":\n",
    "    #os.system(\"clear\") #Limpando\n",
    "    #print\n",
    "    #conf=getch.getche()\n",
    "    conf=raw_input(\"Calibração\\n\\nKp atual: \"+str(kp)+\"\\nKi atual: \"+str(ki)+\"\\nKd atual: \"+str(kd)+\"\\nw -->\\tSubir\\ns -->\\tDescer\\nd -->\\tDesligar\\np -->\\tParar\\no -->\\tAjustar passo, passo atual: \"+str(passo)+\"\\nk -->\\tAjustar ganhos\\nb -->   Sair\\n\\nDigite a função desejada: \")\n",
    "    if conf==\"w\":\n",
    "        Potencia=aumentarPotencia(Potencia,passo)\n",
    "    elif conf==\"s\":\n",
    "        Potencia=diminuirPotencia(Potencia,passo)\n",
    "    elif conf==\"d\":\n",
    "        Potencia=desligar()\n",
    "    elif conf==\"p\":\n",
    "        Potencia=parar()\n",
    "    elif conf==\"o\":\n",
    "        passo=input(\"Digite o novo passo: \")\n",
    "        while passo<=0:\n",
    "            passo=input(\"Valor incoerente, digite um novo passo: \")\n",
    "    elif conf==\"k\":\n",
    "        #print\n",
    "        #conf=getch.getche()\n",
    "        conf=raw_input(\"p -->\\tAlterar ganho proporcional\\ni -->\\tAlterar ganho integral\\nd -->\\tAlterar ganho derivativo\\n\\nQual ganho deseja alterar: \")\n",
    "        if conf==\"p\":\n",
    "            kp=input(\"Digite o novo Kp: \")\n",
    "            while kp<0:\n",
    "                kp=input(\"Valor incoerente, digite um novo Kp: \")\n",
    "        if conf==\"i\":\n",
    "            ki=input(\"Digite o novo Ki: \")\n",
    "            while ki<0:\n",
    "                ki=input(\"Valor incoerente, digite um novo Ki: \")\n",
    "        if conf==\"d\":\n",
    "            kd=input(\"Digite o novo Kd: \")\n",
    "            while kd<0:\n",
    "                kd=input(\"Valor incoerente, digite um novo Kd: \")\n",
    "    elif conf!=\"b\":\n",
    "        raw_input(\"Comando invalido\")"
   ]
  },
  {
   "cell_type": "code",
   "execution_count": null,
   "metadata": {
    "collapsed": true
   },
   "outputs": [],
   "source": [
    "motorMovimento(Potencia,1,2,3)"
   ]
  },
  {
   "cell_type": "code",
   "execution_count": 8,
   "metadata": {
    "collapsed": false
   },
   "outputs": [
    {
     "data": {
      "text/plain": [
       "1060"
      ]
     },
     "execution_count": 8,
     "metadata": {},
     "output_type": "execute_result"
    }
   ],
   "source": [
    "Potencia_motores.item(0)"
   ]
  },
  {
   "cell_type": "code",
   "execution_count": 9,
   "metadata": {
    "collapsed": false
   },
   "outputs": [
    {
     "data": {
      "text/plain": [
       "1063"
      ]
     },
     "execution_count": 9,
     "metadata": {},
     "output_type": "execute_result"
    }
   ],
   "source": [
    "Potencia_motores.item(1)"
   ]
  },
  {
   "cell_type": "code",
   "execution_count": 10,
   "metadata": {
    "collapsed": false
   },
   "outputs": [
    {
     "data": {
      "text/plain": [
       "1066"
      ]
     },
     "execution_count": 10,
     "metadata": {},
     "output_type": "execute_result"
    }
   ],
   "source": [
    "Potencia_motores.item(2)"
   ]
  },
  {
   "cell_type": "code",
   "execution_count": 193,
   "metadata": {
    "collapsed": false
   },
   "outputs": [
    {
     "data": {
      "text/plain": [
       "1070"
      ]
     },
     "execution_count": 193,
     "metadata": {},
     "output_type": "execute_result"
    }
   ],
   "source": [
    "Potencia_motores.item(3)"
   ]
  },
  {
   "cell_type": "code",
   "execution_count": 196,
   "metadata": {
    "collapsed": false
   },
   "outputs": [],
   "source": [
    "def teste(a):\n",
    "    aksldklshfsdahkj=1\n",
    "    \n",
    "x=1"
   ]
  },
  {
   "cell_type": "code",
   "execution_count": 200,
   "metadata": {
    "collapsed": false
   },
   "outputs": [],
   "source": [
    "teste(1)"
   ]
  },
  {
   "cell_type": "code",
   "execution_count": 201,
   "metadata": {
    "collapsed": false
   },
   "outputs": [
    {
     "ename": "NameError",
     "evalue": "name 'aksldklshfsdahkj' is not defined",
     "output_type": "error",
     "traceback": [
      "\u001b[1;31m---------------------------------------------------------------------------\u001b[0m",
      "\u001b[1;31mNameError\u001b[0m                                 Traceback (most recent call last)",
      "\u001b[1;32m<ipython-input-201-6aec8b3412d1>\u001b[0m in \u001b[0;36m<module>\u001b[1;34m()\u001b[0m\n\u001b[1;32m----> 1\u001b[1;33m \u001b[1;32mprint\u001b[0m\u001b[1;33m(\u001b[0m\u001b[0maksldklshfsdahkj\u001b[0m\u001b[1;33m)\u001b[0m\u001b[1;33m\u001b[0m\u001b[0m\n\u001b[0m",
      "\u001b[1;31mNameError\u001b[0m: name 'aksldklshfsdahkj' is not defined"
     ]
    }
   ],
   "source": [
    "print(aksldklshfsdahkj)"
   ]
  },
  {
   "cell_type": "code",
   "execution_count": 199,
   "metadata": {
    "collapsed": false
   },
   "outputs": [
    {
     "data": {
      "text/plain": [
       "0"
      ]
     },
     "execution_count": 199,
     "metadata": {},
     "output_type": "execute_result"
    }
   ],
   "source": [
    "b"
   ]
  },
  {
   "cell_type": "code",
   "execution_count": null,
   "metadata": {
    "collapsed": true
   },
   "outputs": [],
   "source": []
  }
 ],
 "metadata": {
  "kernelspec": {
   "display_name": "Python 2",
   "language": "python",
   "name": "python2"
  },
  "language_info": {
   "codemirror_mode": {
    "name": "ipython",
    "version": 2
   },
   "file_extension": ".py",
   "mimetype": "text/x-python",
   "name": "python",
   "nbconvert_exporter": "python",
   "pygments_lexer": "ipython2",
   "version": "2.7.9"
  }
 },
 "nbformat": 4,
 "nbformat_minor": 0
}
