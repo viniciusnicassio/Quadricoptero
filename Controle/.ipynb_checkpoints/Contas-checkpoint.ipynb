{
 "cells": [
  {
   "cell_type": "code",
   "execution_count": 165,
   "metadata": {
    "collapsed": false
   },
   "outputs": [
    {
     "name": "stdout",
     "output_type": "stream",
     "text": [
      "Populating the interactive namespace from numpy and matplotlib\n"
     ]
    }
   ],
   "source": [
    "%pylab inline\n",
    "import pandas as pd #Manipulação de arquivos"
   ]
  },
  {
   "cell_type": "code",
   "execution_count": 152,
   "metadata": {
    "collapsed": false
   },
   "outputs": [
    {
     "data": {
      "text/html": [
       "<div style=\"max-height:1000px;max-width:1500px;overflow:auto;\">\n",
       "<table border=\"1\" class=\"dataframe\">\n",
       "  <thead>\n",
       "    <tr style=\"text-align: right;\">\n",
       "      <th></th>\n",
       "      <th>Dif PWM</th>\n",
       "    </tr>\n",
       "  </thead>\n",
       "  <tbody>\n",
       "    <tr>\n",
       "      <th>Motor 1</th>\n",
       "      <td> 0</td>\n",
       "    </tr>\n",
       "    <tr>\n",
       "      <th>Motor 2</th>\n",
       "      <td> 0</td>\n",
       "    </tr>\n",
       "    <tr>\n",
       "      <th>Motor 3</th>\n",
       "      <td> 0</td>\n",
       "    </tr>\n",
       "    <tr>\n",
       "      <th>Motor 4</th>\n",
       "      <td> 0</td>\n",
       "    </tr>\n",
       "  </tbody>\n",
       "</table>\n",
       "</div>"
      ],
      "text/plain": [
       "         Dif PWM\n",
       "Motor 1        0\n",
       "Motor 2        0\n",
       "Motor 3        0\n",
       "Motor 4        0"
      ]
     },
     "execution_count": 152,
     "metadata": {},
     "output_type": "execute_result"
    }
   ],
   "source": [
    "a=0\n",
    "b=0\n",
    "c=0\n",
    "d=0\n",
    "motores = pd.DataFrame([a,b,c,d],columns=['Dif PWM'],index=['Motor 1','Motor 2','Motor 3','Motor 4'],dtype=int)\n",
    "motores"
   ]
  },
  {
   "cell_type": "code",
   "execution_count": 3,
   "metadata": {
    "collapsed": false
   },
   "outputs": [],
   "source": [
    "motores.to_csv('./data/Dif_motores.txt', sep='\\t')"
   ]
  },
  {
   "cell_type": "code",
   "execution_count": 161,
   "metadata": {
    "collapsed": false
   },
   "outputs": [
    {
     "data": {
      "text/html": [
       "<div style=\"max-height:1000px;max-width:1500px;overflow:auto;\">\n",
       "<table border=\"1\" class=\"dataframe\">\n",
       "  <thead>\n",
       "    <tr style=\"text-align: right;\">\n",
       "      <th></th>\n",
       "      <th>Dif PWM</th>\n",
       "    </tr>\n",
       "  </thead>\n",
       "  <tbody>\n",
       "    <tr>\n",
       "      <th>Motor 1</th>\n",
       "      <td> 0</td>\n",
       "    </tr>\n",
       "    <tr>\n",
       "      <th>Motor 2</th>\n",
       "      <td> 2</td>\n",
       "    </tr>\n",
       "    <tr>\n",
       "      <th>Motor 3</th>\n",
       "      <td> 0</td>\n",
       "    </tr>\n",
       "    <tr>\n",
       "      <th>Motor 4</th>\n",
       "      <td>-2</td>\n",
       "    </tr>\n",
       "  </tbody>\n",
       "</table>\n",
       "</div>"
      ],
      "text/plain": [
       "         Dif PWM\n",
       "Motor 1        0\n",
       "Motor 2        2\n",
       "Motor 3        0\n",
       "Motor 4       -2"
      ]
     },
     "execution_count": 161,
     "metadata": {},
     "output_type": "execute_result"
    }
   ],
   "source": [
    "motores"
   ]
  },
  {
   "cell_type": "code",
   "execution_count": 103,
   "metadata": {
    "collapsed": false
   },
   "outputs": [],
   "source": [
    "#Constantes\n",
    "\n",
    "min_PWM=1062 #Valor minimo para motores girar\n",
    "max_PWM=2399 #Valor maximo para motores girar"
   ]
  },
  {
   "cell_type": "code",
   "execution_count": 123,
   "metadata": {
    "collapsed": false
   },
   "outputs": [],
   "source": [
    "Potencia=1062\n",
    "cor_x=10\n",
    "cor_y=0\n",
    "giro=0\n"
   ]
  },
  {
   "cell_type": "code",
   "execution_count": 174,
   "metadata": {
    "collapsed": false
   },
   "outputs": [],
   "source": [
    "def motorMovimento(Potencia, cor_x, cor_y, giro):\n",
    "    if Potencia>=min_PWM:\n",
    "        offset_motores=matrix([\n",
    "        [motores['Dif PWM']['Motor 1']],\n",
    "        [motores['Dif PWM']['Motor 2']],\n",
    "        [motores['Dif PWM']['Motor 3']],\n",
    "        [motores['Dif PWM']['Motor 4']],\n",
    "        ])\n",
    "        Potencia_motores=Potencia+offset_motores\n",
    "        #Corringindo em X\n",
    "        Potencia_motores=correcaoX(Potencia_motores,cor_x)\n",
    "        #Corringindo em y\n",
    "        Potencia_motores=correcaoY(Potencia_motores,cor_y)\n",
    "        #Corringindo em giro\n",
    "        Potencia_motores=correcaoGiro(Potencia_motores,giro)\n",
    "    elif Potencia==0:\n",
    "        Potencia_motores=matrix([\n",
    "        [0],\n",
    "        [0],\n",
    "        [0],\n",
    "        [0],\n",
    "        ])\n",
    "    else:\n",
    "        Potencia_motores=matrix([\n",
    "        [500],\n",
    "        [500],\n",
    "        [500],\n",
    "        [500],\n",
    "        ])\n",
    "    \n",
    "    return(Potencia_motores)\n",
    "\n",
    "def motorParado(Potencia, cor_x, cor_y, giro):\n",
    "    if Potencia>=min_PWM:\n",
    "        motores['Dif PWM']['Motor 1'] += -cor_x +cor_y -giro\n",
    "        motores['Dif PWM']['Motor 2'] += +cor_x +cor_y +giro\n",
    "        motores['Dif PWM']['Motor 3'] += +cor_x -cor_y -giro\n",
    "        motores['Dif PWM']['Motor 4'] += -cor_x -cor_y +giro\n",
    "        offset_motores=matrix([\n",
    "        [motores['Dif PWM']['Motor 1']],\n",
    "        [motores['Dif PWM']['Motor 2']],\n",
    "        [motores['Dif PWM']['Motor 3']],\n",
    "        [motores['Dif PWM']['Motor 4']],\n",
    "        ])\n",
    "        Potencia_motores=Potencia+offset_motores\n",
    "        #Corringindo valores\n",
    "        Potencia_motores=correcaoX(Potencia_motores,0)\n",
    "    elif Potencia==0:\n",
    "        Potencia_motores=matrix([\n",
    "        [0],\n",
    "        [0],\n",
    "        [0],\n",
    "        [0],\n",
    "        ])\n",
    "    else:\n",
    "        Potencia_motores=matrix([\n",
    "        [500],\n",
    "        [500],\n",
    "        [500],\n",
    "        [500],\n",
    "        ])\n",
    "    \n",
    "    return(Potencia_motores)"
   ]
  },
  {
   "cell_type": "code",
   "execution_count": 175,
   "metadata": {
    "collapsed": false
   },
   "outputs": [],
   "source": [
    "def correcaoX(Potencia_motores,cor_x):\n",
    "    Potencia_motores += matrix([\n",
    "        [-cor_x],\n",
    "        [+cor_x],\n",
    "        [+cor_x],\n",
    "        [-cor_x],\n",
    "    ])\n",
    "    if (min(Potencia_motores)<min_PWM):\n",
    "        print(str(min_PWM-min(Potencia_motores))+\" abaixo em x\")\n",
    "        Potencia_motores += min_PWM-min(Potencia_motores)\n",
    "    if (max(Potencia_motores)>max_PWM):\n",
    "        print(str(max(Potencia_motores)-max_PWM)+\" a cima em x\")\n",
    "        Potencia_motores -= max(Potencia_motores)-max_PWM\n",
    "    return(Potencia_motores)\n",
    "\n",
    "def correcaoY(Potencia_motores,cor_y):\n",
    "    Potencia_motores += matrix([\n",
    "        [+cor_y],\n",
    "        [+cor_y],\n",
    "        [-cor_y],\n",
    "        [-cor_y],\n",
    "    ])\n",
    "    if (min(Potencia_motores)<min_PWM):\n",
    "        print(str(min_PWM-min(Potencia_motores))+\" abaixo em y\")\n",
    "        Potencia_motores += min_PWM-min(Potencia_motores)\n",
    "    if (max(Potencia_motores)>max_PWM):\n",
    "        print(str(max(Potencia_motores)-max_PWM)+\" a cima em y\")\n",
    "        Potencia_motores -= max(Potencia_motores)-max_PWM\n",
    "    return(Potencia_motores)\n",
    "\n",
    "def correcaoGiro(Potencia_motores,giro):\n",
    "    Potencia_motores += matrix([\n",
    "        [-giro],\n",
    "        [+giro],\n",
    "        [-giro],\n",
    "        [+giro],\n",
    "    ])\n",
    "    if (min(Potencia_motores)<min_PWM):\n",
    "        print(str(min_PWM-min(Potencia_motores))+\" abaixo em giro\")\n",
    "        Potencia_motores += min_PWM-min(Potencia_motores)\n",
    "    if (max(Potencia_motores)>max_PWM):\n",
    "        print(str(max(Potencia_motores)-max_PWM)+\" a cima em abaixo em giro\")\n",
    "        Potencia_motores -= max(Potencia_motores)-max_PWM\n",
    "    return(Potencia_motores)"
   ]
  },
  {
   "cell_type": "code",
   "execution_count": 185,
   "metadata": {
    "collapsed": true
   },
   "outputs": [],
   "source": [
    "def aumentarPotencia(Potencia,passo):\n",
    "    Potencia+=passo\n",
    "    if Potencia>max_PWM:\n",
    "        Potencia=max_PWM\n",
    "    if Potencia<min_PWM:\n",
    "        Potencia=min_PWM\n",
    "    return (Potencia)\n",
    "\n",
    "def diminuirPotencia(Potencia,passo):\n",
    "    Potencia-=passo\n",
    "    if Potencia>max_PWM:\n",
    "        Potencia=max_PWM\n",
    "    if Potencia<min_PWM:\n",
    "        Potencia=min_PWM\n",
    "    return (Potencia)\n",
    "\n",
    "def parar():\n",
    "    return (500)\n",
    "\n",
    "def desligar():\n",
    "    return (0)"
   ]
  },
  {
   "cell_type": "code",
   "execution_count": null,
   "metadata": {
    "collapsed": false
   },
   "outputs": [
    {
     "name": "stdout",
     "output_type": "stream",
     "text": [
      "Calibração\n",
      "\n",
      "Kp atual: 0.1\n",
      "Ki atual: 0.0\n",
      "Kd atual: 0.0\n",
      "w -->\tSubir\n",
      "s -->\tDescer\n",
      "d -->\tDesligar\n",
      "p -->\tParar\n",
      "o -->\tAjustar passo, passo atual: 1\n",
      "k -->\tAjustar ganhos\n",
      "b -->   Sair\n",
      "\n",
      "Digite a função desejada: k\n",
      "p -->\tAlterar ganho proporcional\n",
      "i -->\tAlterar ganho integral\n",
      "d -->\tAlterar ganho derivativo\n",
      "\n",
      "Qual ganho deseja alterar: p\n",
      "Digite o novo Kp: 1\n"
     ]
    }
   ],
   "source": [
    "#Função de Calibração\n",
    "Potencia=0\n",
    "passo=1\n",
    "kp=0.1\n",
    "ki=0.0\n",
    "kd=0.0\n",
    "conf=\"a\"\n",
    "while conf!=\"b\" and conf!=\"B\":\n",
    "    #os.system(\"clear\") #Limpando\n",
    "    #print\n",
    "    #conf=getch.getche()\n",
    "    conf=raw_input(\"Calibração\\n\\nKp atual: \"+str(kp)+\"\\nKi atual: \"+str(ki)+\"\\nKd atual: \"+str(kd)+\"\\nw -->\\tSubir\\ns -->\\tDescer\\nd -->\\tDesligar\\np -->\\tParar\\no -->\\tAjustar passo, passo atual: \"+str(passo)+\"\\nk -->\\tAjustar ganhos\\nb -->   Sair\\n\\nDigite a função desejada: \")\n",
    "    if conf==\"w\":\n",
    "        Potencia=aumentarPotencia(Potencia,passo)\n",
    "    elif conf==\"s\":\n",
    "        Potencia=diminuirPotencia(Potencia,passo)\n",
    "    elif conf==\"d\":\n",
    "        Potencia=desligar()\n",
    "    elif conf==\"p\":\n",
    "        Potencia=parar()\n",
    "    elif conf==\"o\":\n",
    "        passo=input(\"Digite o novo passo: \")\n",
    "        while passo<=0:\n",
    "            passo=input(\"Valor incoerente, digite um novo passo: \")\n",
    "    elif conf==\"k\":\n",
    "        #print\n",
    "        #conf=getch.getche()\n",
    "        conf=raw_input(\"p -->\\tAlterar ganho proporcional\\ni -->\\tAlterar ganho integral\\nd -->\\tAlterar ganho derivativo\\n\\nQual ganho deseja alterar: \")\n",
    "        if conf==\"p\":\n",
    "            kp=input(\"Digite o novo Kp: \")\n",
    "            while kp<0:\n",
    "                kp=input(\"Valor incoerente, digite um novo Kp: \")\n",
    "        if conf==\"i\":\n",
    "            ki=input(\"Digite o novo Ki: \")\n",
    "            while ki<0:\n",
    "                ki=input(\"Valor incoerente, digite um novo Ki: \")\n",
    "        if conf==\"d\":\n",
    "            kd=input(\"Digite o novo Kd: \")\n",
    "            while kd<0:\n",
    "                kd=input(\"Valor incoerente, digite um novo Kd: \")\n",
    "    elif conf!=\"b\":\n",
    "        raw_input(\"Comando invalido\")"
   ]
  },
  {
   "cell_type": "code",
   "execution_count": null,
   "metadata": {
    "collapsed": true
   },
   "outputs": [],
   "source": [
    "motorMovimento(Potencia,1,2,3)"
   ]
  },
  {
   "cell_type": "code",
   "execution_count": 8,
   "metadata": {
    "collapsed": false
   },
   "outputs": [
    {
     "data": {
      "text/plain": [
       "1060"
      ]
     },
     "execution_count": 8,
     "metadata": {},
     "output_type": "execute_result"
    }
   ],
   "source": [
    "Potencia_motores.item(0)"
   ]
  },
  {
   "cell_type": "code",
   "execution_count": 9,
   "metadata": {
    "collapsed": false
   },
   "outputs": [
    {
     "data": {
      "text/plain": [
       "1063"
      ]
     },
     "execution_count": 9,
     "metadata": {},
     "output_type": "execute_result"
    }
   ],
   "source": [
    "Potencia_motores.item(1)"
   ]
  },
  {
   "cell_type": "code",
   "execution_count": 10,
   "metadata": {
    "collapsed": false
   },
   "outputs": [
    {
     "data": {
      "text/plain": [
       "1066"
      ]
     },
     "execution_count": 10,
     "metadata": {},
     "output_type": "execute_result"
    }
   ],
   "source": [
    "Potencia_motores.item(2)"
   ]
  },
  {
   "cell_type": "code",
   "execution_count": 11,
   "metadata": {
    "collapsed": false
   },
   "outputs": [
    {
     "data": {
      "text/plain": [
       "1069"
      ]
     },
     "execution_count": 11,
     "metadata": {},
     "output_type": "execute_result"
    }
   ],
   "source": [
    "Potencia_motores.item(3)"
   ]
  }
 ],
 "metadata": {
  "kernelspec": {
   "display_name": "Python 2",
   "language": "python",
   "name": "python2"
  },
  "language_info": {
   "codemirror_mode": {
    "name": "ipython",
    "version": 2
   },
   "file_extension": ".py",
   "mimetype": "text/x-python",
   "name": "python",
   "nbconvert_exporter": "python",
   "pygments_lexer": "ipython2",
   "version": "2.7.9"
  }
 },
 "nbformat": 4,
 "nbformat_minor": 0
}
